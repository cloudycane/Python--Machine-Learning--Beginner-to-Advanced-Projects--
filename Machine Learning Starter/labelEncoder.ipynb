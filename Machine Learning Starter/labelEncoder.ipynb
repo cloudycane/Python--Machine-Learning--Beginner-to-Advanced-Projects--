{
 "cells": [
  {
   "cell_type": "code",
   "execution_count": 1,
   "metadata": {},
   "outputs": [],
   "source": [
    "#Label Encoding is dealing of labels (words or numbers)\n",
    "#If the labels are numbers, the algorithm can use them directly.\n",
    "#It refers to tansforming the word labels into NUMERICAL form so that the algorithms can understand how to operate the encoded labels.\n",
    "\n",
    "from sklearn import preprocessing #from sklearn import the module called preprocessing "
   ]
  },
  {
   "cell_type": "code",
   "execution_count": 2,
   "metadata": {},
   "outputs": [],
   "source": [
    "#Create an object and add the class LabelEncoder using the module preprocessing\n",
    "\n",
    "label_encoder = preprocessing.LabelEncoder()"
   ]
  },
  {
   "cell_type": "code",
   "execution_count": 3,
   "metadata": {},
   "outputs": [],
   "source": [
    "#LABEL CREATION \n",
    "\n",
    "input_classes = ['bee','ant','bee','firefly','grasshopper','ant','butterfly']"
   ]
  },
  {
   "cell_type": "code",
   "execution_count": 5,
   "metadata": {},
   "outputs": [
    {
     "name": "stdout",
     "output_type": "stream",
     "text": [
      "\n",
      " Class Mapping: \n",
      "ant --> 0\n",
      "bee --> 1\n",
      "butterfly --> 2\n",
      "firefly --> 3\n",
      "grasshopper --> 4\n"
     ]
    }
   ],
   "source": [
    "#TRAINING THE LABELS OR ENCODING THEM\n",
    "#object fitting the labels \n",
    "label_encoder.fit(input_classes)\n",
    "print(\"\\n Class Mapping: \")\n",
    "\n",
    "for i, item in enumerate(label_encoder.classes_):\n",
    "    print(item,'-->',i)\n",
    "\n",
    "#We can see the output encoded into the numbers and these numbers are turned into indexes..."
   ]
  },
  {
   "cell_type": "code",
   "execution_count": 6,
   "metadata": {},
   "outputs": [
    {
     "name": "stdout",
     "output_type": "stream",
     "text": [
      "\n",
      " Labels = ['ant', 'grasshopper', 'butterfly'] \n",
      "Encoded labels = [0, 4, 2]\n"
     ]
    }
   ],
   "source": [
    "#Let's try if the code works... and let's see if another labels can be converted into indexed numbers...\n",
    "\n",
    "\n",
    "labels2 = ['ant', 'grasshopper', 'butterfly']\n",
    "\n",
    "encoded_labels = label_encoder.transform(labels2)   #using the module transform() and the object label_encoder to transform the labels2 into numbers...\n",
    "\n",
    "print(f\"\\n Labels = {labels2} \")\n",
    "print(f\"Encoded labels = {list(encoded_labels)}\")"
   ]
  },
  {
   "cell_type": "code",
   "execution_count": 7,
   "metadata": {},
   "outputs": [
    {
     "name": "stdout",
     "output_type": "stream",
     "text": [
      " Labels = [0, 1, 2, 3, 4]\n",
      " Decoded Labels = ['ant', 'bee', 'butterfly', 'firefly', 'grasshopper']\n"
     ]
    }
   ],
   "source": [
    "#using the module inverse_transform -----> label_encoder.inverse_transform()\n",
    "\n",
    "encoded_labels2 = [0, 1, 2, 3, 4]\n",
    "decoded_labels = label_encoder.inverse_transform(encoded_labels2)\n",
    "print(f\" Labels = {encoded_labels2}\")\n",
    "print(f\" Decoded Labels = {list(decoded_labels)}\")"
   ]
  }
 ],
 "metadata": {
  "kernelspec": {
   "display_name": "Python 3",
   "language": "python",
   "name": "python3"
  },
  "language_info": {
   "codemirror_mode": {
    "name": "ipython",
    "version": 3
   },
   "file_extension": ".py",
   "mimetype": "text/x-python",
   "name": "python",
   "nbconvert_exporter": "python",
   "pygments_lexer": "ipython3",
   "version": "3.12.0"
  }
 },
 "nbformat": 4,
 "nbformat_minor": 2
}
